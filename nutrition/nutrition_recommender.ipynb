{
 "cells": [
  {
   "cell_type": "code",
   "execution_count": 1,
   "metadata": {},
   "outputs": [],
   "source": [
    "class NutritionRecommender:\n",
    "    def __init__(self, user_id, age, weight, dietary_preferences):\n",
    "        \"\"\"\n",
    "        Initialize user data.\n",
    "        :param user_id: Unique ID for the user\n",
    "        :param age: Age of the user\n",
    "        :param weight: Weight of the user (in kg)\n",
    "        :param dietary_preferences: List of dietary preferences (e.g., [\"vegetarian\", \"vegan\"])\n",
    "        \"\"\"\n",
    "        self.user_id = user_id\n",
    "        self.age = age\n",
    "        self.weight = weight\n",
    "        self.dietary_preferences = dietary_preferences\n",
    "        self.recommended_calories = self.calculate_calories()\n",
    "\n",
    "    def calculate_calories(self):\n",
    "        \"\"\"\n",
    "        Calculate recommended calories based on age and weight.\n",
    "        :return: Recommended calorie intake (in kcal)\n",
    "        \"\"\"\n",
    "        # Simple rule-based calorie recommendation based on age groups\n",
    "        if self.age < 30:\n",
    "            return 15 * self.weight  # Higher metabolic rate for younger users\n",
    "        elif 30 <= self.age <= 50:\n",
    "            return 13 * self.weight  # Medium metabolic rate\n",
    "        else:\n",
    "            return 12 * self.weight  # Lower metabolic rate for older users\n",
    "\n",
    "    def suggest_meals(self):\n",
    "        \"\"\"\n",
    "        Suggest meals based on dietary preferences.\n",
    "        :return: Dictionary with breakfast, lunch, and dinner recommendations\n",
    "        \"\"\"\n",
    "        breakfast = self.get_meal('breakfast')\n",
    "        lunch = self.get_meal('lunch')\n",
    "        dinner = self.get_meal('dinner')\n",
    "        return {\"Breakfast\": breakfast, \"Lunch\": lunch, \"Dinner\": dinner}\n",
    "\n",
    "    def get_meal(self, meal_type):\n",
    "        \"\"\"\n",
    "        Get a meal suggestion based on dietary preferences.\n",
    "        :param meal_type: Type of meal ('breakfast', 'lunch', 'dinner')\n",
    "        :return: Suggested meal\n",
    "        \"\"\"\n",
    "        if \"vegetarian\" in self.dietary_preferences:\n",
    "            return f\"{meal_type.capitalize()} option: Oats, Yogurt, Smoothie (Vegetarian)\"\n",
    "        elif \"vegan\" in self.dietary_preferences:\n",
    "            return f\"{meal_type.capitalize()} option: Avocado Toast, Salad, Lentil Soup (Vegan)\"\n",
    "        else:\n",
    "            return f\"{meal_type.capitalize()} option: Eggs, Grilled Chicken, Brown Rice (Non-Vegetarian)\"\n"
   ]
  },
  {
   "cell_type": "code",
   "execution_count": 2,
   "metadata": {},
   "outputs": [
    {
     "name": "stdout",
     "output_type": "stream",
     "text": [
      "Meal Plan for User 1:\n",
      "Breakfast: Breakfast option: Oats, Yogurt, Smoothie (Vegetarian)\n",
      "Lunch: Lunch option: Oats, Yogurt, Smoothie (Vegetarian)\n",
      "Dinner: Dinner option: Oats, Yogurt, Smoothie (Vegetarian)\n"
     ]
    }
   ],
   "source": [
    "# Creating a user with specific age, weight, and dietary preferences\n",
    "user = NutritionRecommender(user_id=1, age=25, weight=70, dietary_preferences=[\"vegetarian\"])\n",
    "\n",
    "# Get the meal plan for breakfast, lunch, and dinner\n",
    "meal_plan = user.suggest_meals()\n",
    "\n",
    "# Print meal plan\n",
    "print(\"Meal Plan for User 1:\")\n",
    "print(f\"Breakfast: {meal_plan['Breakfast']}\")\n",
    "print(f\"Lunch: {meal_plan['Lunch']}\")\n",
    "print(f\"Dinner: {meal_plan['Dinner']}\")\n",
    "\n"
   ]
  },
  {
   "cell_type": "code",
   "execution_count": null,
   "metadata": {},
   "outputs": [],
   "source": []
  }
 ],
 "metadata": {
  "kernelspec": {
   "display_name": "Python 3",
   "language": "python",
   "name": "python3"
  },
  "language_info": {
   "codemirror_mode": {
    "name": "ipython",
    "version": 3
   },
   "file_extension": ".py",
   "mimetype": "text/x-python",
   "name": "python",
   "nbconvert_exporter": "python",
   "pygments_lexer": "ipython3",
   "version": "3.11.9"
  }
 },
 "nbformat": 4,
 "nbformat_minor": 2
}
