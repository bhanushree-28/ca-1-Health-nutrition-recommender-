{
 "cells": [
  {
   "cell_type": "code",
   "execution_count": 2,
   "metadata": {},
   "outputs": [
    {
     "name": "stdout",
     "output_type": "stream",
     "text": [
      "100-row dataset created and saved as nutrition_data_100.csv\n"
     ]
    }
   ],
   "source": [
    "import pandas as pd\n",
    "import numpy as np\n",
    "\n",
    "# Set seed for reproducibility\n",
    "np.random.seed(42)\n",
    "\n",
    "# Generate random data for 100 users\n",
    "data = {\n",
    "    \"User ID\": np.arange(1, 101),  # User IDs from 1 to 100\n",
    "    \"Age\": np.random.randint(18, 70, size=100),  # Random ages between 18 and 70\n",
    "    \"Weight\": np.random.randint(50, 100, size=100),  # Random weights between 50 and 100 kg\n",
    "    \"Dietary Preferences\": np.random.choice([\"vegetarian\", \"vegan\", \"non-vegetarian\"], size=100),  # Random dietary preferences\n",
    "    \"Activity Level\": np.random.choice([1, 2, 3], size=100),  # Random activity levels (1: Low, 2: Medium, 3: High)\n",
    "    \"Calories Intake\": np.random.randint(1500, 3000, size=100)  # Random calorie intake between 1500 and 3000 kcal\n",
    "}\n",
    "\n",
    "# Convert the data into a pandas DataFrame\n",
    "df = pd.DataFrame(data)\n",
    "\n",
    "# Save to a CSV file\n",
    "df.to_csv('dataset.csv', index=False)\n",
    "\n",
    "print(\"100-row dataset created and saved as nutrition_data_100.csv\")\n",
    "\n"
   ]
  },
  {
   "cell_type": "code",
   "execution_count": null,
   "metadata": {},
   "outputs": [],
   "source": []
  }
 ],
 "metadata": {
  "kernelspec": {
   "display_name": "Python 3",
   "language": "python",
   "name": "python3"
  },
  "language_info": {
   "codemirror_mode": {
    "name": "ipython",
    "version": 3
   },
   "file_extension": ".py",
   "mimetype": "text/x-python",
   "name": "python",
   "nbconvert_exporter": "python",
   "pygments_lexer": "ipython3",
   "version": "3.11.9"
  }
 },
 "nbformat": 4,
 "nbformat_minor": 2
}
